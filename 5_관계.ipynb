{
  "nbformat": 4,
  "nbformat_minor": 0,
  "metadata": {
    "colab": {
      "provenance": [],
      "authorship_tag": "ABX9TyNmDe6f0YbFEyOJezIN9Z5k",
      "include_colab_link": true
    },
    "kernelspec": {
      "name": "python3",
      "display_name": "Python 3"
    },
    "language_info": {
      "name": "python"
    }
  },
  "cells": [
    {
      "cell_type": "markdown",
      "metadata": {
        "id": "view-in-github",
        "colab_type": "text"
      },
      "source": [
        "<a href=\"https://colab.research.google.com/github/leeyeonwoo-v/2025.DM/blob/main/5_%EA%B4%80%EA%B3%84.ipynb\" target=\"_parent\"><img src=\"https://colab.research.google.com/assets/colab-badge.svg\" alt=\"Open In Colab\"/></a>"
      ]
    },
    {
      "cell_type": "code",
      "source": [
        "import numpy as np\n",
        "import networkx as nx\n",
        "import matplotlib.pyplot as plt"
      ],
      "metadata": {
        "id": "HiSj6viSi_Iw"
      },
      "execution_count": 6,
      "outputs": []
    },
    {
      "cell_type": "code",
      "execution_count": 2,
      "metadata": {
        "id": "lFAQjORjHF_R",
        "colab": {
          "base_uri": "https://localhost:8080/"
        },
        "outputId": "e46f78b4-effe-4671-8096-34c6c5274647"
      },
      "outputs": [
        {
          "output_type": "stream",
          "name": "stdout",
          "text": [
            "관계 R: {(2, 3), (3, 2), (1, 2), (3, 4)}\n"
          ]
        }
      ],
      "source": [
        "A = {1, 2, 3}\n",
        "B = {2, 3, 4}\n",
        "R = {(1, 2), (2, 3), (3, 2), (3, 4)}\n",
        "\n",
        "print(\"관계 R:\", R)"
      ]
    },
    {
      "cell_type": "code",
      "source": [
        "A_list = sorted(A)\n",
        "B_list = sorted(B)\n",
        "\n",
        "relation_matrix = np.zeros((len(A_list), len(B_list)), dtype=int)\n",
        "\n",
        "for i, a in enumerate(A_list):\n",
        "  for j, b in enumerate(B_list):\n",
        "    if (a, b) in R:\n",
        "      relation_matrix[i, j] = 1\n",
        "\n",
        "print(\"관계 행렬 (rows: A, colums: B):\")\n",
        "print(relation_matrix)"
      ],
      "metadata": {
        "id": "UjHtcjsSIWo-",
        "colab": {
          "base_uri": "https://localhost:8080/"
        },
        "outputId": "fa069367-6ca5-4966-ac7b-25ac0438dcd6"
      },
      "execution_count": 3,
      "outputs": [
        {
          "output_type": "stream",
          "name": "stdout",
          "text": [
            "관계 행렬 (rows: A, colums: B):\n",
            "[[1 0 0]\n",
            " [0 1 0]\n",
            " [1 0 1]]\n"
          ]
        }
      ]
    },
    {
      "cell_type": "code",
      "source": [
        "C = {'x', 'y'}\n",
        "S = {(2, 'x'), (3, 'y'), (4, 'x')}\n",
        "\n",
        "composed_relation = set()\n",
        "\n",
        "for (a, b1) in R:\n",
        "  for (b2, c) in S:\n",
        "    if b1 == b2:\n",
        "      composed_relation.add((a,c))\n",
        "\n",
        "print(\"\\n합성 관계 R ∘ S:\", composed_relation)"
      ],
      "metadata": {
        "id": "WHq1xewMLAzD",
        "colab": {
          "base_uri": "https://localhost:8080/"
        },
        "outputId": "abc126c5-5e7b-4563-8b49-195b6745f821"
      },
      "execution_count": 7,
      "outputs": [
        {
          "output_type": "stream",
          "name": "stdout",
          "text": [
            "\n",
            "합성 관계 R ∘ S: {(2, 'y'), (3, 'x'), (1, 'x')}\n"
          ]
        }
      ]
    }
  ]
}